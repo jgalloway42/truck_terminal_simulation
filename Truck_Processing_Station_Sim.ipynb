{
 "cells": [
  {
   "cell_type": "code",
   "execution_count": 1,
   "id": "d5f9f653",
   "metadata": {},
   "outputs": [],
   "source": [
    "# import basic functionality and setup notebook params\n",
    "from preamble import *\n",
    "\n",
    "# project specific imports\n",
    "import simpy\n",
    "import heapq\n",
    "from scipy.stats import expon, halfnorm\n",
    "from IPython.display import clear_output"
   ]
  },
  {
   "cell_type": "markdown",
   "id": "98f15555",
   "metadata": {},
   "source": [
    "### Simulation Classes and Parameters"
   ]
  },
  {
   "cell_type": "code",
   "execution_count": 2,
   "id": "dca5d117",
   "metadata": {},
   "outputs": [],
   "source": [
    "'''Simulation Parameters '''\n",
    "\n",
    "NUM_STATIONS = 2 # number of processing stations\n",
    "AVG_PROCESSING_RATE = 1/20 # trucks/minutes\n",
    "AVG_ARRIVAL_RATE = 2/21 # trucks/minute\n",
    "SIM_LENGTH = 60*24 # minutes"
   ]
  },
  {
   "cell_type": "code",
   "execution_count": 3,
   "id": "8bf0c33d",
   "metadata": {},
   "outputs": [],
   "source": [
    "class TruckTerminal:\n",
    "        \n",
    "    def __init__(self, env, num_stations = NUM_STATIONS,\n",
    "                 avg_processing_rate = AVG_PROCESSING_RATE):\n",
    "        self.env = env\n",
    "        self.stations = simpy.Resource(env, num_stations)\n",
    "        self.avg_processing_rate = avg_processing_rate\n",
    "        self.trucks_processed = 0\n",
    "        \n",
    "    # support\n",
    "    def process_truck(self, truck):\n",
    "        process_time = int(expon.rvs(scale=1/AVG_PROCESSING_RATE) + 0.5) #minutes\n",
    "        yield self.env.timeout(process_time)\n",
    "        print(f'{truck} finished processing at {self.env.now:0.2f}')\n",
    "    \n",
    "    #customer\n",
    "    def truck_arrival(self, truck_name):\n",
    "        print(f'Arrival: Truck, {truck_name}, arrives in queue at {self.env.now:0.2f}')\n",
    "        \n",
    "        with self.stations.request() as request:\n",
    "            yield request\n",
    "            print(f'Begin: Truck, {truck_name}, enters processing station at {self.env.now:0.2f}')\n",
    "            yield self.env.process(self.process_truck(truck_name))\n",
    "            print(f'Exit: Truck, {truck_name}, exited station at {self.env.now:0.2f}')\n",
    "            self.trucks_processed += 1"
   ]
  },
  {
   "cell_type": "markdown",
   "id": "edb4e114",
   "metadata": {},
   "source": [
    "### Simulation Functions"
   ]
  },
  {
   "cell_type": "code",
   "execution_count": 4,
   "id": "6cbb8579",
   "metadata": {},
   "outputs": [],
   "source": [
    "def simulation(truck_terminal , avg_arrival_rate = AVG_ARRIVAL_RATE,\n",
    "               init_queue_length = 5):\n",
    "    \n",
    "    # fill queue at start with some trucks\n",
    "    for name in range(1,init_queue_length + 1):\n",
    "        truck_terminal.env.process(truck_terminal.truck_arrival(name))\n",
    "        \n",
    "    while True:\n",
    "        arrival_time = int(expon.rvs(scale=1/avg_arrival_rate) + 0.5) #minutes\n",
    "        yield truck_terminal.env.timeout(arrival_time)\n",
    "        name += 1\n",
    "        truck_terminal.env.process(truck_terminal.truck_arrival(name))\n",
    "\n",
    "def run_simulation():\n",
    "    env = simpy.Environment()\n",
    "    tt = TruckTerminal(env)\n",
    "    env.process(simulation(tt))\n",
    "    env.run(until = SIM_LENGTH)\n",
    "    \n",
    "    return tt.trucks_processed\n",
    "\n",
    "def daily_truck_processing_distribution(n_sim = 1000):\n",
    "    trucks_processed = []\n",
    "    for j in range(n_sim):\n",
    "        clear_output(wait=True)\n",
    "        print(f'==== Processing Simulation {j+1} ====')\n",
    "        trucks_processed.append(run_simulation())\n",
    "    clear_output(wait=True)\n",
    "    print(f'===== Daily Truck Processing =====')\n",
    "    print(f'Mean: {np.mean(trucks_processed)}')\n",
    "    print(f'Median: {np.median(trucks_processed)}')\n",
    "    print(f'Standard Deviation: {np.std(trucks_processed)}')\n",
    "    sns.histplot(trucks_processed)\n",
    "    plt.xlabel('Number of Trucks Processed Daily')"
   ]
  },
  {
   "cell_type": "code",
   "execution_count": 5,
   "id": "ba572509",
   "metadata": {},
   "outputs": [
    {
     "name": "stdout",
     "output_type": "stream",
     "text": [
      "===== Daily Truck Processing =====\n",
      "Mean: 131.932\n",
      "Median: 132.0\n",
      "Standard Deviation: 9.83073628982082\n"
     ]
    },
    {
     "data": {
      "image/png": "[encoded data removed]",
      "text/plain": [
       "<Figure size 800x700 with 1 Axes>"
      ]
     },
     "metadata": {},
     "output_type": "display_data"
    }
   ],
   "source": [
    "daily_truck_processing_distribution()"
   ]
  },
  {
   "cell_type": "markdown",
   "id": "e1ef6dc1",
   "metadata": {},
   "source": [
    "### Truck and Priority Queue Classes with Helper Functions\n",
    "Not used in simulation"
   ]
  },
  {
   "cell_type": "code",
   "execution_count": 6,
   "id": "70521c51",
   "metadata": {},
   "outputs": [],
   "source": [
    "class Truck:\n",
    "    def __init__(self, name, priority):\n",
    "        self._name = name\n",
    "        self._priority = priority\n",
    "    def get_name(self):\n",
    "        return self._name\n",
    "    def get_priority(self):\n",
    "        return self._priority\n",
    "\n",
    "class PriorityQueue:\n",
    "    def __init__(self):\n",
    "        self._data = []\n",
    "        self._index = 0\n",
    "        \n",
    "    def push(self, item, priority):\n",
    "        heapq.heappush(self._data, (-priority, self._index, item))\n",
    "        self._index += 1\n",
    "        \n",
    "    def pop(self):\n",
    "        return heapq.heappop(self._data)[-1]\n",
    "    \n",
    "    def print_queue(self):\n",
    "        for x in self._data:\n",
    "            print(x)\n",
    "    \n",
    "def get_random_priority(mean = 0, std=1/3):\n",
    "    return int(100*halfnorm.rvs(loc = mean, scale=std, size=1))\n",
    "\n",
    "def add_random_priority_truck(name, que):\n",
    "    truck = Truck(name, get_random_priority())\n",
    "    que.push(truck, truck.get_priority())"
   ]
  }
 ],
 "metadata": {
  "kernelspec": {
   "display_name": "Python 3 (ipykernel)",
   "language": "python",
   "name": "python3"
  },
  "language_info": {
   "codemirror_mode": {
    "name": "ipython",
    "version": 3
   },
   "file_extension": ".py",
   "mimetype": "text/x-python",
   "name": "python",
   "nbconvert_exporter": "python",
   "pygments_lexer": "ipython3",
   "version": "3.8.13"
  }
 },
 "nbformat": 4,
 "nbformat_minor": 5
}
